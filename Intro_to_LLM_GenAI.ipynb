{
  "cells": [
    {
      "cell_type": "markdown",
      "metadata": {
        "id": "view-in-github",
        "colab_type": "text"
      },
      "source": [
        "<a href=\"https://colab.research.google.com/github/vinhnx/LLM_AI_intro_for_iOS_engineers/blob/main/Intro_to_LLM_GenAI.ipynb\" target=\"_parent\"><img src=\"https://colab.research.google.com/assets/colab-badge.svg\" alt=\"Open In Colab\"/></a>"
      ]
    },
    {
      "cell_type": "code",
      "execution_count": 8,
      "metadata": {
        "id": "ADhTBGnZnOUr",
        "collapsed": true,
        "outputId": "72adc9c5-13f5-43b6-b052-1ab763c0a8d4",
        "colab": {
          "base_uri": "https://localhost:8080/"
        }
      },
      "outputs": [
        {
          "output_type": "stream",
          "name": "stdout",
          "text": [
            "Requirement already satisfied: transformers in /usr/local/lib/python3.10/dist-packages (4.46.2)\n",
            "Requirement already satisfied: torch in /usr/local/lib/python3.10/dist-packages (2.5.1+cu121)\n",
            "Requirement already satisfied: filelock in /usr/local/lib/python3.10/dist-packages (from transformers) (3.16.1)\n",
            "Requirement already satisfied: huggingface-hub<1.0,>=0.23.2 in /usr/local/lib/python3.10/dist-packages (from transformers) (0.26.2)\n",
            "Requirement already satisfied: numpy>=1.17 in /usr/local/lib/python3.10/dist-packages (from transformers) (1.26.4)\n",
            "Requirement already satisfied: packaging>=20.0 in /usr/local/lib/python3.10/dist-packages (from transformers) (24.2)\n",
            "Requirement already satisfied: pyyaml>=5.1 in /usr/local/lib/python3.10/dist-packages (from transformers) (6.0.2)\n",
            "Requirement already satisfied: regex!=2019.12.17 in /usr/local/lib/python3.10/dist-packages (from transformers) (2024.9.11)\n",
            "Requirement already satisfied: requests in /usr/local/lib/python3.10/dist-packages (from transformers) (2.32.3)\n",
            "Requirement already satisfied: safetensors>=0.4.1 in /usr/local/lib/python3.10/dist-packages (from transformers) (0.4.5)\n",
            "Requirement already satisfied: tokenizers<0.21,>=0.20 in /usr/local/lib/python3.10/dist-packages (from transformers) (0.20.3)\n",
            "Requirement already satisfied: tqdm>=4.27 in /usr/local/lib/python3.10/dist-packages (from transformers) (4.66.6)\n",
            "Requirement already satisfied: typing-extensions>=4.8.0 in /usr/local/lib/python3.10/dist-packages (from torch) (4.12.2)\n",
            "Requirement already satisfied: networkx in /usr/local/lib/python3.10/dist-packages (from torch) (3.4.2)\n",
            "Requirement already satisfied: jinja2 in /usr/local/lib/python3.10/dist-packages (from torch) (3.1.4)\n",
            "Requirement already satisfied: fsspec in /usr/local/lib/python3.10/dist-packages (from torch) (2024.10.0)\n",
            "Requirement already satisfied: sympy==1.13.1 in /usr/local/lib/python3.10/dist-packages (from torch) (1.13.1)\n",
            "Requirement already satisfied: mpmath<1.4,>=1.1.0 in /usr/local/lib/python3.10/dist-packages (from sympy==1.13.1->torch) (1.3.0)\n",
            "Requirement already satisfied: MarkupSafe>=2.0 in /usr/local/lib/python3.10/dist-packages (from jinja2->torch) (3.0.2)\n",
            "Requirement already satisfied: charset-normalizer<4,>=2 in /usr/local/lib/python3.10/dist-packages (from requests->transformers) (3.4.0)\n",
            "Requirement already satisfied: idna<4,>=2.5 in /usr/local/lib/python3.10/dist-packages (from requests->transformers) (3.10)\n",
            "Requirement already satisfied: urllib3<3,>=1.21.1 in /usr/local/lib/python3.10/dist-packages (from requests->transformers) (2.2.3)\n",
            "Requirement already satisfied: certifi>=2017.4.17 in /usr/local/lib/python3.10/dist-packages (from requests->transformers) (2024.8.30)\n"
          ]
        }
      ],
      "source": [
        "!pip install transformers torch"
      ]
    },
    {
      "cell_type": "code",
      "execution_count": 9,
      "metadata": {
        "colab": {
          "base_uri": "https://localhost:8080/"
        },
        "collapsed": true,
        "id": "xBZOLWApei5P",
        "outputId": "69761914-58aa-4770-b4fc-5fe645fd2c42"
      },
      "outputs": [
        {
          "output_type": "stream",
          "name": "stdout",
          "text": [
            "Requirement already satisfied: transformers in /usr/local/lib/python3.10/dist-packages (4.46.2)\n",
            "Requirement already satisfied: filelock in /usr/local/lib/python3.10/dist-packages (from transformers) (3.16.1)\n",
            "Requirement already satisfied: huggingface-hub<1.0,>=0.23.2 in /usr/local/lib/python3.10/dist-packages (from transformers) (0.26.2)\n",
            "Requirement already satisfied: numpy>=1.17 in /usr/local/lib/python3.10/dist-packages (from transformers) (1.26.4)\n",
            "Requirement already satisfied: packaging>=20.0 in /usr/local/lib/python3.10/dist-packages (from transformers) (24.2)\n",
            "Requirement already satisfied: pyyaml>=5.1 in /usr/local/lib/python3.10/dist-packages (from transformers) (6.0.2)\n",
            "Requirement already satisfied: regex!=2019.12.17 in /usr/local/lib/python3.10/dist-packages (from transformers) (2024.9.11)\n",
            "Requirement already satisfied: requests in /usr/local/lib/python3.10/dist-packages (from transformers) (2.32.3)\n",
            "Requirement already satisfied: safetensors>=0.4.1 in /usr/local/lib/python3.10/dist-packages (from transformers) (0.4.5)\n",
            "Requirement already satisfied: tokenizers<0.21,>=0.20 in /usr/local/lib/python3.10/dist-packages (from transformers) (0.20.3)\n",
            "Requirement already satisfied: tqdm>=4.27 in /usr/local/lib/python3.10/dist-packages (from transformers) (4.66.6)\n",
            "Requirement already satisfied: fsspec>=2023.5.0 in /usr/local/lib/python3.10/dist-packages (from huggingface-hub<1.0,>=0.23.2->transformers) (2024.10.0)\n",
            "Requirement already satisfied: typing-extensions>=3.7.4.3 in /usr/local/lib/python3.10/dist-packages (from huggingface-hub<1.0,>=0.23.2->transformers) (4.12.2)\n",
            "Requirement already satisfied: charset-normalizer<4,>=2 in /usr/local/lib/python3.10/dist-packages (from requests->transformers) (3.4.0)\n",
            "Requirement already satisfied: idna<4,>=2.5 in /usr/local/lib/python3.10/dist-packages (from requests->transformers) (3.10)\n",
            "Requirement already satisfied: urllib3<3,>=1.21.1 in /usr/local/lib/python3.10/dist-packages (from requests->transformers) (2.2.3)\n",
            "Requirement already satisfied: certifi>=2017.4.17 in /usr/local/lib/python3.10/dist-packages (from requests->transformers) (2024.8.30)\n"
          ]
        },
        {
          "output_type": "stream",
          "name": "stderr",
          "text": [
            "Truncation was not explicitly activated but `max_length` is provided a specific value, please use `truncation=True` to explicitly truncate examples to max length. Defaulting to 'longest_first' truncation strategy. If you encode pairs of sequences (GLUE-style) with the tokenizer you can select this strategy more precisely by providing a specific strategy to `truncation`.\n",
            "Setting `pad_token_id` to `eos_token_id`:None for open-end generation.\n"
          ]
        },
        {
          "output_type": "stream",
          "name": "stdout",
          "text": [
            "Artificial Intelligence is a very complex topic, and the world is getting too complex. In the end, I'm not satisfied with people using it for a couple of reasons – firstly, as the main source of information, but also as the world\n"
          ]
        }
      ],
      "source": [
        "# Basic example using a simple open-source model\n",
        "!pip install transformers\n",
        "from transformers import pipeline\n",
        "\n",
        "# Initialize a pipeline for text generation\n",
        "generator = pipeline(\"text-generation\", model=\"gpt2\")\n",
        "\n",
        "# Generate text\n",
        "prompt = \"Artificial Intelligence is\"\n",
        "result = generator(prompt, max_length=50)\n",
        "print(result[0][\"generated_text\"])"
      ]
    },
    {
      "cell_type": "code",
      "execution_count": 10,
      "metadata": {
        "colab": {
          "base_uri": "https://localhost:8080/"
        },
        "id": "48VugFQPfOVu",
        "outputId": "c185562b-13ed-4abe-ff0e-ffc76319096d"
      },
      "outputs": [
        {
          "output_type": "stream",
          "name": "stdout",
          "text": [
            "['func', 'Ġtable', 'View', '(_', 'Ġtable', 'View', ':', 'ĠU', 'IT', 'able', 'View', ',', 'Ġcell', 'For', 'Row', 'At', 'Ġindex', 'Path', ':', 'ĠIndex', 'Path', ')']\n"
          ]
        }
      ],
      "source": [
        "from transformers import AutoTokenizer\n",
        "\n",
        "tokenizer = AutoTokenizer.from_pretrained(\"gpt2\")\n",
        "text = \"func tableView(_ tableView: UITableView, cellForRowAt indexPath: IndexPath)\"\n",
        "tokens = tokenizer.tokenize(text)\n",
        "print(tokens)"
      ]
    },
    {
      "cell_type": "markdown",
      "metadata": {
        "id": "_cM5A6XiiGOB"
      },
      "source": []
    },
    {
      "cell_type": "code",
      "execution_count": 11,
      "metadata": {
        "colab": {
          "base_uri": "https://localhost:8080/"
        },
        "collapsed": true,
        "id": "k4Wk9RVafd3f",
        "outputId": "c6870fa4-eeb3-41ed-beb5-0871a0a06604"
      },
      "outputs": [
        {
          "output_type": "stream",
          "name": "stdout",
          "text": [
            "Original text: \n",
            "    func tableView(_ tableView: UITableView,\n",
            "                  cellForRowAt indexPath: IndexPath) -> UITableViewCell {\n",
            "        let cell = tableView.dequeueReusableCell(withIdentifier: \"Cell\")\n",
            "        return cell\n",
            "    }\n",
            "    \n",
            "\n",
            "Tokens: ['Ċ', 'Ġ', 'Ġ', 'Ġ', 'Ġfunc', 'Ġtable', 'View', '(_', 'Ġtable', 'View', ':', 'ĠU', 'IT', 'able', 'View', ',', 'Ċ', 'Ġ', 'Ġ', 'Ġ', 'Ġ', 'Ġ', 'Ġ', 'Ġ', 'Ġ', 'Ġ', 'Ġ', 'Ġ', 'Ġ', 'Ġ', 'Ġ', 'Ġ', 'Ġ', 'Ġ', 'Ġcell', 'For', 'Row', 'At', 'Ġindex', 'Path', ':', 'ĠIndex', 'Path', ')', 'Ġ->', 'ĠU', 'IT', 'able', 'View', 'Cell', 'Ġ{', 'Ċ', 'Ġ', 'Ġ', 'Ġ', 'Ġ', 'Ġ', 'Ġ', 'Ġ', 'Ġlet', 'Ġcell', 'Ġ=', 'Ġtable', 'View', '.', 'de', 'queue', 'Re', 'usable', 'Cell', '(', 'with', 'Ident', 'ifier', ':', 'Ġ\"', 'Cell', '\")', 'Ċ', 'Ġ', 'Ġ', 'Ġ', 'Ġ', 'Ġ', 'Ġ', 'Ġ', 'Ġreturn', 'Ġcell', 'Ċ', 'Ġ', 'Ġ', 'Ġ', 'Ġ}', 'Ċ', 'Ġ', 'Ġ', 'Ġ', 'Ġ']\n",
            "\n",
            "Token IDs: [198, 220, 220, 220, 25439, 3084, 7680, 28264, 3084, 7680, 25, 471, 2043, 540, 7680, 11, 198, 220, 220, 220, 220, 220, 220, 220, 220, 220, 220, 220, 220, 220, 220, 220, 220, 220, 2685, 1890, 25166, 2953, 6376, 15235, 25, 12901, 15235, 8, 4613, 471, 2043, 540, 7680, 28780, 1391, 198, 220, 220, 220, 220, 220, 220, 220, 1309, 2685, 796, 3084, 7680, 13, 2934, 36560, 3041, 31979, 28780, 7, 4480, 33234, 7483, 25, 366, 28780, 4943, 198, 220, 220, 220, 220, 220, 220, 220, 1441, 2685, 198, 220, 220, 220, 1782, 198, 220, 220, 220, 220]\n",
            "\n",
            "Decoded text: \n",
            "    func tableView(_ tableView: UITableView,\n",
            "                  cellForRowAt indexPath: IndexPath) -> UITableViewCell {\n",
            "        let cell = tableView.dequeueReusableCell(withIdentifier: \"Cell\")\n",
            "        return cell\n",
            "    }\n",
            "    \n"
          ]
        }
      ],
      "source": [
        "### 1. Basic Tokenization Example\n",
        "\n",
        "from transformers import AutoTokenizer\n",
        "\n",
        "\n",
        "def explore_tokenization():\n",
        "    # Initialize tokenizer\n",
        "    tokenizer = AutoTokenizer.from_pretrained(\"gpt2\")\n",
        "\n",
        "    # Example iOS-related text\n",
        "    swift_code = \"\"\"\n",
        "    func tableView(_ tableView: UITableView,\n",
        "                  cellForRowAt indexPath: IndexPath) -> UITableViewCell {\n",
        "        let cell = tableView.dequeueReusableCell(withIdentifier: \"Cell\")\n",
        "        return cell\n",
        "    }\n",
        "    \"\"\"\n",
        "\n",
        "    # Tokenize the text\n",
        "    tokens = tokenizer.tokenize(swift_code)\n",
        "    token_ids = tokenizer.encode(swift_code)\n",
        "\n",
        "    print(\"Original text:\", swift_code)\n",
        "    print(\"\\nTokens:\", tokens)\n",
        "    print(\"\\nToken IDs:\", token_ids)\n",
        "\n",
        "    # Decode back to text\n",
        "    decoded_text = tokenizer.decode(token_ids)\n",
        "    print(\"\\nDecoded text:\", decoded_text)\n",
        "\n",
        "\n",
        "# Run the example\n",
        "explore_tokenization()"
      ]
    },
    {
      "cell_type": "code",
      "execution_count": 15,
      "metadata": {
        "colab": {
          "base_uri": "https://localhost:8080/",
          "height": 564
        },
        "id": "EbqqqrojiJ2m",
        "outputId": "158df77c-b20c-491d-8f36-97c62acb092d"
      },
      "outputs": [
        {
          "output_type": "display_data",
          "data": {
            "text/plain": [
              "<Figure size 1000x600 with 1 Axes>"
            ],
            "image/png": "[encoded data removed]"
          },
          "metadata": {}
        }
      ],
      "source": [
        "### 2. Embedding Visualization\n",
        "\n",
        "import matplotlib.pyplot as plt\n",
        "import torch\n",
        "from sklearn.decomposition import PCA\n",
        "from transformers import AutoModel, AutoTokenizer\n",
        "import numpy as np\n",
        "\n",
        "def visualize_embeddings():\n",
        "    # Load a pre-trained model and tokenizer\n",
        "    model = AutoModel.from_pretrained(\"bert-base-uncased\")\n",
        "    tokenizer = AutoTokenizer.from_pretrained(\"bert-base-uncased\")\n",
        "\n",
        "    # iOS-related words\n",
        "    words = [\n",
        "        \"Swift\",\n",
        "        \"UIKit\",\n",
        "        \"iOS\",\n",
        "        \"Xcode\",\n",
        "        \"ViewController\",\n",
        "        \"TableView\",\n",
        "        \"Storyboard\",\n",
        "        \"SwiftUI\",\n",
        "        \"CollectionView\",\n",
        "        \"AppDelegate\",\n",
        "        \"NavigationController\"\n",
        "    ]\n",
        "\n",
        "    # Get embeddings\n",
        "    embeddings = []\n",
        "    for word in words:\n",
        "        inputs = tokenizer(word, return_tensors=\"pt\")\n",
        "        with torch.no_grad():\n",
        "            outputs = model(**inputs)\n",
        "\n",
        "        # Get the average of the token embeddings (ignoring [CLS] and [SEP])\n",
        "        embedding = outputs.last_hidden_state[0, 1:-1].mean(dim=0).numpy()\n",
        "        embeddings.append(embedding)\n",
        "\n",
        "    # Reduce dimensionality for visualization\n",
        "    pca = PCA(n_components=2)\n",
        "    embeddings_2d = pca.fit_transform(embeddings)\n",
        "\n",
        "    # Plot\n",
        "    plt.figure(figsize=(10, 6))\n",
        "    plt.scatter(embeddings_2d[:, 0], embeddings_2d[:, 1])\n",
        "    for i, word in enumerate(words):\n",
        "        plt.annotate(word, (embeddings_2d[i, 0], embeddings_2d[i, 1]))\n",
        "    plt.title(\"Word Embeddings Visualization\")\n",
        "    plt.xlabel(\"PCA Component 1\")\n",
        "    plt.ylabel(\"PCA Component 2\")\n",
        "    plt.grid(True)\n",
        "    plt.show()\n",
        "\n",
        "# Run the visualization\n",
        "visualize_embeddings()\n"
      ]
    },
    {
      "cell_type": "code",
      "execution_count": 13,
      "metadata": {
        "colab": {
          "base_uri": "https://localhost:8080/"
        },
        "id": "DhJDB8lRi0mk",
        "outputId": "16869546-bc03-4884-9583-229fbe91d62b"
      },
      "outputs": [
        {
          "output_type": "stream",
          "name": "stderr",
          "text": [
            "No model was supplied, defaulted to openai-community/gpt2 and revision 607a30d (https://huggingface.co/openai-community/gpt2).\n",
            "Using a pipeline without specifying a model name and revision in production is not recommended.\n",
            "Truncation was not explicitly activated but `max_length` is provided a specific value, please use `truncation=True` to explicitly truncate examples to max length. Defaulting to 'longest_first' truncation strategy. If you encode pairs of sequences (GLUE-style) with the tokenizer you can select this strategy more precisely by providing a specific strategy to `truncation`.\n",
            "Setting `pad_token_id` to `eos_token_id`:None for open-end generation.\n",
            "No model was supplied, defaulted to sshleifer/distilbart-cnn-12-6 and revision a4f8f3e (https://huggingface.co/sshleifer/distilbart-cnn-12-6).\n",
            "Using a pipeline without specifying a model name and revision in production is not recommended.\n"
          ]
        },
        {
          "output_type": "stream",
          "name": "stdout",
          "text": [
            "Generated text: Write a Swift function that accepts an object of type Result. func main () { try { return nil } catch { case 'a': String. set () // is invalid. } }\n",
            "\n",
            "As Swift goes, if we create an object that has\n"
          ]
        },
        {
          "output_type": "stream",
          "name": "stderr",
          "text": [
            "No model was supplied, defaulted to distilbert/distilbert-base-uncased-finetuned-sst-2-english and revision 714eb0f (https://huggingface.co/distilbert/distilbert-base-uncased-finetuned-sst-2-english).\n",
            "Using a pipeline without specifying a model name and revision in production is not recommended.\n"
          ]
        },
        {
          "output_type": "stream",
          "name": "stdout",
          "text": [
            "\n",
            "Summary:  iOS 15 update brings significant improvements to the user experience . It includes better notifications, focus modes, and enhanced privacy features . Developers can now take advantage of new APIs and SwiftUI improvements .\n",
            "Sentiment: POSITIVE\n"
          ]
        }
      ],
      "source": [
        "### 3. Using Hugging Face Pipeline\n",
        "\n",
        "from transformers import pipeline\n",
        "\n",
        "\n",
        "def demonstrate_pipeline():\n",
        "    # Initialize a text generation pipeline\n",
        "    generator = pipeline(\"text-generation\")\n",
        "\n",
        "    # Example prompt\n",
        "    prompt = \"Write a Swift function that\"\n",
        "\n",
        "    # Generate text\n",
        "    result = generator(prompt, max_length=50, num_return_sequences=1)\n",
        "\n",
        "    print(\"Generated text:\", result[0][\"generated_text\"])\n",
        "\n",
        "    # Try other tasks\n",
        "    summarizer = pipeline(\"summarization\")\n",
        "    classifier = pipeline(\"sentiment-analysis\")\n",
        "\n",
        "    # Example usage\n",
        "    text = \"\"\"\n",
        "    The new iOS 15 update brings significant improvements to the user experience.\n",
        "    It includes better notifications, focus modes, and enhanced privacy features.\n",
        "    Developers can now take advantage of new APIs and SwiftUI improvements.\n",
        "    \"\"\"\n",
        "\n",
        "    summary = summarizer(text, max_length=50, min_length=10)\n",
        "    sentiment = classifier(text)\n",
        "\n",
        "    print(\"\\nSummary:\", summary[0][\"summary_text\"])\n",
        "    print(\"Sentiment:\", sentiment[0][\"label\"])\n",
        "\n",
        "\n",
        "# Run the pipeline example\n",
        "demonstrate_pipeline()"
      ]
    }
  ],
  "metadata": {
    "colab": {
      "provenance": [],
      "include_colab_link": true
    },
    "kernelspec": {
      "display_name": "Python 3",
      "name": "python3"
    },
    "language_info": {
      "name": "python",
      "version": "3.12.6"
    }
  },
  "nbformat": 4,
  "nbformat_minor": 0
}